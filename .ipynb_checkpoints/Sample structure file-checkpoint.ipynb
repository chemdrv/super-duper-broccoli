{
 "cells": [
  {
   "cell_type": "markdown",
   "metadata": {},
   "source": [
    "# Experiment title here\n",
    "\n",
    "Authors: Marie van Staveren,\n",
    "\n",
    "## Introduction\n",
    "\n",
    "Text introduction to the experiment can go here. Would we want an abstract/overview/purpose before the introduction?\n"
   ]
  },
  {
   "cell_type": "markdown",
   "metadata": {},
   "source": [
    "## Prelab instructions\n",
    "\n",
    "You need to be ready to perform the experiment before you come to lab. Here are some things you can do to make sure you're prepared.\n",
    "\n",
    "1. Thing 1\n",
    "2. Thing 2\n",
    "3. Thing 3\n",
    "\n",
    "We can make this interactive. We can make this autograded. There are a lot of options here. As you go, think about what would best help future students understand and be ready for lab.\n",
    "\n",
    "HELLO WORLD"
   ]
  },
  {
   "cell_type": "markdown",
   "metadata": {},
   "source": [
    "## Experimental instructions\n",
    "\n",
    "Here's where we'd type in the experiment details. What details should we give? Can we use the interaction of a Jupyter notebook to help future students plan out what they're doing? For example, a cell that says \"type in your observed value for {whatev} here\" and then that cell gives feedback about what would come next?"
   ]
  },
  {
   "cell_type": "markdown",
   "metadata": {},
   "source": [
    "## Check-out?\n",
    "\n",
    "Would we want some sort of self-check, \"You're ready to leave when...\"?\n",
    "\n",
    "Also, should there be guidance about what is a reasonable amount to do the first day and what the second day?"
   ]
  },
  {
   "cell_type": "markdown",
   "metadata": {},
   "source": [
    "## Write up tips\n",
    "\n",
    "This should not be a list of things the student must do. However, a list of things they *might* do is really helpful."
   ]
  },
  {
   "cell_type": "code",
   "execution_count": null,
   "metadata": {},
   "outputs": [],
   "source": []
  }
 ],
 "metadata": {
  "kernelspec": {
   "display_name": "Python 3 (ipykernel)",
   "language": "python",
   "name": "python3"
  },
  "language_info": {
   "codemirror_mode": {
    "name": "ipython",
    "version": 3
   },
   "file_extension": ".py",
   "mimetype": "text/x-python",
   "name": "python",
   "nbconvert_exporter": "python",
   "pygments_lexer": "ipython3",
   "version": "3.9.13"
  }
 },
 "nbformat": 4,
 "nbformat_minor": 2
}
