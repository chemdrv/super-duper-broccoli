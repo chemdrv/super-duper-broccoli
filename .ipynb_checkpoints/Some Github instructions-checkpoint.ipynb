{
 "cells": [
  {
   "cell_type": "markdown",
   "metadata": {},
   "source": [
    "1. Clone the repository (\"repo\") to your computer using Github Deskop\n",
    "2. Create a branch for the type of work you'll be doing. Branches can be organized by topic: \"intro branch\" \"interactive code/self-grading notebook branch\" \"prelab and postlab questions\"\n",
    "3. Make changes locally\n",
    "4. When you've reached a stopping point, you'll commit to the proper branch. Use Github Desktop, select the correct repo and branch. It'll show you the diff. Put in a brief summary, and a longer description if needed.\n",
    "5. Commit\n",
    "6. Push to the web\n",
    "7. It'll offer you the option to make a pull request. That's for when you're ready for your work to get pulled into the larger project.\n",
    "8. When you do a pull request, someone else needs to read it and approve it. Currently I've set it so that we all can approve it.\n"
   ]
  },
  {
   "cell_type": "markdown",
   "metadata": {},
   "source": [
    "Dr. V's lecture talking points:\n",
    "1. Show students Github and discuss why it's set up the way that it is\n",
    " - Allows thoughtful collaboration\n",
    " - Let's multiple ideas be persued independently without conflict\n",
    " - Holds onto older versions in case you realize you wanted them\n",
    "2. Describe the hierarchy of a repository\n",
    " - A bunch of files in the \"main\" branch\n",
    " - Draw on board: you can branch it into, say \"Working on pre/post lab questions\" and \"Experimental instructions\"\n",
    " - Maybe the post-lab person realizes they want something particular changed in the intro\n",
    " - And the Experimental instructions person wants something changed in the intro\n",
    " - Everyone makes changes\n",
    " - Push to your branch on the web\n",
    " - PR\n",
    " - PR initiates \"Code review\": team decides what changes to the intro make sense\n",
    "3. Walk the class through a PR using this file\n",
    "\n",
    "Here is another change!"
   ]
  },
  {
   "cell_type": "code",
   "execution_count": null,
   "metadata": {},
   "outputs": [],
   "source": []
  }
 ],
 "metadata": {
  "kernelspec": {
   "display_name": "Python 3",
   "language": "python",
   "name": "python3"
  },
  "language_info": {
   "codemirror_mode": {
    "name": "ipython",
    "version": 3
   },
   "file_extension": ".py",
   "mimetype": "text/x-python",
   "name": "python",
   "nbconvert_exporter": "python",
   "pygments_lexer": "ipython3",
   "version": "3.8.5"
  }
 },
 "nbformat": 4,
 "nbformat_minor": 2
}
