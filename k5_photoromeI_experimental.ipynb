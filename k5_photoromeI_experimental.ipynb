{
 "cells": [
  {
   "cell_type": "markdown",
   "id": "d1192a71-3e1e-4960-b4b9-266b799265c0",
   "metadata": {},
   "source": [
    "# 5a: Transient Absorption and Photochromism\n",
    "## Objectives\n",
    "In this experiment, you will be studying photochemical conformation changes.  The specific molecule studied here is similar to those found in photochromic eye-glasses (i.e. Transition Lens) and result in dramatic color change that is rapidly reversible. How fast the reverse reaction occurs will depend upon the dielectric constant and viscosity of the solvent. This experiment is aimed at studying the rapid photochromic change of 1,3-dihydro-1,3,3-trimethylspiro[2H-indole-2,3’-[3H]naphth[2,1-b][1,4]oxazine] (Photorome I) using laser-induced transient absorption spectroscopy.  "
   ]
  },
  {
   "cell_type": "markdown",
   "id": "61b76dc8-29c8-43e1-9320-31ea814bb9ae",
   "metadata": {},
   "source": [
    "## Introduction\n",
    "Each month more than 100 incidents of laser flashes being observed by aircraft pilots while in flight are reported to the NTSB. Photochromic systems are being made into rapid response optical filters to protect against such inadvertent laser blinding. To be a good optical filter, not only does the response of the filter to be have to be rapid, but it must also return to a clear state rapidly once the detected treat is no longer present.  This experiment seeks to study the photochromic response of Photorome I, shown below.\n",
    "\n",
    "![Photorome I structure](photorome_I.png \"Photorome I structure\")"
   ]
  },
  {
   "cell_type": "code",
   "execution_count": null,
   "id": "1f11eaca-1b48-4e07-b170-f0f17c2cf6a6",
   "metadata": {},
   "outputs": [],
   "source": []
  }
 ],
 "metadata": {
  "kernelspec": {
   "display_name": "Python 3 (ipykernel)",
   "language": "python",
   "name": "python3"
  },
  "language_info": {
   "codemirror_mode": {
    "name": "ipython",
    "version": 3
   },
   "file_extension": ".py",
   "mimetype": "text/x-python",
   "name": "python",
   "nbconvert_exporter": "python",
   "pygments_lexer": "ipython3",
   "version": "3.11.4"
  }
 },
 "nbformat": 4,
 "nbformat_minor": 5
}
