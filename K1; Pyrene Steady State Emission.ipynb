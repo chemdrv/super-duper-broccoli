{
 "cells": [
  {
   "cell_type": "markdown",
   "id": "4fa76ea8",
   "metadata": {},
   "source": [
    "# K1: Pyrene excited state decay pathways: Steady State emission"
   ]
  },
  {
   "cell_type": "markdown",
   "id": "f08fffc6",
   "metadata": {},
   "source": [
    "## Obejectives\n",
    "\n",
    "This experiment will explore steady-state method developed to obtain kinetic information about the interaction of an excited state with its environment. In these experiments several different reaction partners (quenchers) will be used to gather information about possible quenching models. Spefically you will examine \n",
    "\n",
    " - The decay of pyrene excited singlet state using competitive reaction measurements \n",
    " - Steady state fluorescence spectroscopy \n",
    " - The quencher models to obtain estimates of the excited singlet state life time of pyrene \n",
    " - The quencher models to predict the bimolecular quenching rate constant \n"
   ]
  },
  {
   "cell_type": "markdown",
   "id": "7d0ff3d8",
   "metadata": {},
   "source": [
    "## Introduction"
   ]
  },
  {
   "cell_type": "markdown",
   "id": "67eb7f1f",
   "metadata": {},
   "source": [
    "## Pre-Lab\n",
    "\n",
    "1. <ins>**Read the procedure carefully**</ins>. Also you may want to read Atkins 17G.3 and 17G.4 in the 11th edition. Skim the other references, so you are aware of the other material avalibale to you. Refer to them as needed and make note of them in your lab notebook\n",
    "\n",
    "\n",
    "2. **Look up the fluorescence lifetime of pyrene**. This is strongly solvent dependent! You can find it in the Brownrigg and Kenny reference posted on Blackboard. Write down the lifetime for the solvent that is referenced in the procedure in your notebook\n",
    "\n",
    "\n",
    "3. **Perform unit analysis on equation 7**, that is put the units for the right side of the equation and verify that they cancel out to make the units of the left side. p is unitless. **Then calculate the diffusion controlled rate constant for cyclohexane**. You may assume the probably of reaction is 1, so p=1 in this case. If the limiting step is the diffusion of the quencher though the solution, then KQ= KD, which is what we'll be assuming Frequently. Show your unit analysis and calculations in your lab notebook\n",
    "\n",
    "\n",
    "4. **Estimate of how much quencher you need using equation 4, putting in the lifetime you looked up and and the quencher rate constant that you just calculated. What quencher concentration gives you you a quenching of fluorescence intensity of 90%?** <ins>Hint use the Stern-Volmer equation</ins> Show your calculations and final answer in your lab notebook.\n",
    "\n",
    "\n",
    "5. If you wish to make 50 mL of 10^-2 M DABCO (1,4-diazabicyclo[2.2.2]octane), **what mass of DABCO do you need?** show your work in your lab notebook"
   ]
  },
  {
   "cell_type": "markdown",
   "id": "a43b0523",
   "metadata": {},
   "source": [
    "## Materials and Instruments \n",
    "\n",
    " - Pyrene\n",
    " - cyclohexane\n",
    " - Stock solutions of quenchers \n",
    " - UV-vis spectrometer "
   ]
  },
  {
   "cell_type": "markdown",
   "id": "b3e31332",
   "metadata": {},
   "source": [
    "## Procedures\n",
    "\n",
    "Pyrene has a relatively long excited singlet state lifetime, a high fluorescent quantum yield, and has been selected as the molecule for this study\n",
    "\n",
    "1. Make up a solution of pyrene in cyclohexane such that the OD is between 0.1-0.3\n",
    "\n",
    "<ins>**NOTE**</ins>: Since the excited singlet state is quenched by dissolved oxygen ([O2]≈1 mM in cyclohexane) **the sample must be degassed**. Check with your TA to make sure you understand the degassing procedure before attempting\n",
    "\n",
    "2. Using an analytical pippette place 3 mL of sample into a cuvette and degas by bubbling with argon for at least 10 minutes. Use this sample immediately by taking the emission spectra \n",
    "\n",
    "<ins>**Do not degas your sample ahead of time as oxygen will slowly infiltrate the sample as it sits on the bench**</ins>\n",
    "\n",
    "\n",
    "Several quenchers will be made available for you to use in these experiments. Stock solutions of these quenchers will be provided and must also be degassed before use.###Once your samples are degassed, you should measure their ground-state absorption coefficients using the UV-Vis spectrometer. Compare the OD's before degassing with what you measure after degassing to estimate the new sample volume as some solvent may evaporate.###\n",
    "\n"
   ]
  },
  {
   "cell_type": "markdown",
   "id": "87cf6625",
   "metadata": {},
   "source": [
    "### Experimental procedures\n",
    "\n",
    "3. Degas the sample then take an emission spectrum.\n",
    "\n",
    "4. Then add quencher and measure the emission spectrum again.\n",
    "\n",
    "5. Monitor the emission spectrum and add successive quantities of quencher until you achieve ~90% quenching. Repeat for two different quenchers, so in total of three quenchers"
   ]
  },
  {
   "cell_type": "markdown",
   "id": "d517b4ec",
   "metadata": {},
   "source": [
    "## Post-Lab questions to consider\n",
    "\n",
    "1. "
   ]
  },
  {
   "cell_type": "markdown",
   "id": "423c6761",
   "metadata": {},
   "source": [
    "## References"
   ]
  },
  {
   "cell_type": "code",
   "execution_count": null,
   "id": "3a2768e1",
   "metadata": {},
   "outputs": [],
   "source": []
  }
 ],
 "metadata": {
  "kernelspec": {
   "display_name": "Python 3 (ipykernel)",
   "language": "python",
   "name": "python3"
  },
  "language_info": {
   "codemirror_mode": {
    "name": "ipython",
    "version": 3
   },
   "file_extension": ".py",
   "mimetype": "text/x-python",
   "name": "python",
   "nbconvert_exporter": "python",
   "pygments_lexer": "ipython3",
   "version": "3.9.7"
  }
 },
 "nbformat": 4,
 "nbformat_minor": 5
}
